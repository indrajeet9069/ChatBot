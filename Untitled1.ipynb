{
 "cells": [
  {
   "cell_type": "code",
   "execution_count": null,
   "metadata": {},
   "outputs": [],
   "source": [
    "# pip install screen_brightness_control"
   ]
  },
  {
   "cell_type": "code",
   "execution_count": 2,
   "metadata": {},
   "outputs": [],
   "source": [
    "import screen_brightness_control as sbc  \n",
    "import os"
   ]
  },
  {
   "cell_type": "code",
   "execution_count": null,
   "metadata": {},
   "outputs": [],
   "source": [
    "def seceen_bright():\n",
    "    cur_bright = sbc.get_brightness()                        \n",
    "    print('Current brightness level :',cur_bright)\n",
    "    level = input('Enter brightness level: ')\n",
    "    sbc.set_brightness(level)\n",
    "    current_brightness = sbc.get_brightness()                         \n",
    "    print('brightness level increase by :',cur_bright)\n",
    "seceen_bright()\n",
    "    "
   ]
  },
  {
   "cell_type": "code",
   "execution_count": null,
   "metadata": {},
   "outputs": [],
   "source": [
    "def Openapp(app):\n",
    "    query=str(app)\n",
    "    print(app)\n",
    "    if \"open Chrome\" in query:\n",
    "        os.startfile(\"C:\\\\Users\\\\DELL\\\\AppData\\\\Local\\\\Google\\\\Chrome\\\\Application\\\\chrome.exe\")\n",
    "    else:\n",
    "        print(\"acces dinide\")\n",
    "\n",
    "\n",
    "def ChromeAuto(command):\n",
    "    print(command)\n",
    "    query=str(command)\n",
    "    if \"Close tab\" in query:\n",
    "        press_and_release('ctrl + w')\n",
    "        print(\"succesful\")\n",
    "    elif \"open new tab\" in query:a\n",
    "        press_and_release('ctrl + t')\n",
    "    else:\n",
    "        print(\"sorry\")\n",
    "\n",
    "Openapp(\"open Chrome\")"
   ]
  }
 ],
 "metadata": {
  "kernelspec": {
   "display_name": "Python 3",
   "language": "python",
   "name": "python3"
  },
  "language_info": {
   "codemirror_mode": {
    "name": "ipython",
    "version": 3
   },
   "file_extension": ".py",
   "mimetype": "text/x-python",
   "name": "python",
   "nbconvert_exporter": "python",
   "pygments_lexer": "ipython3",
   "version": "3.7.6"
  }
 },
 "nbformat": 4,
 "nbformat_minor": 4
}
